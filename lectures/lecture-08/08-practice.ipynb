{
 "cells": [
  {
   "cell_type": "markdown",
   "id": "343d63b5",
   "metadata": {},
   "source": [
    "# QTM 350 - Data Science Computing\n",
    "## Lecture 08 - Practice\n",
    "**Author:** Danilo Freire (danilo.freire@emory.edu, Emory University)"
   ]
  },
  {
   "cell_type": "markdown",
   "id": "6d85605b",
   "metadata": {},
   "source": [
    "# And here we are! 😊"
   ]
  },
  {
   "cell_type": "markdown",
   "id": "dd6251d7",
   "metadata": {},
   "source": [
    "# Time to practice! 🧑🏻‍💻👩🏼‍💻"
   ]
  },
  {
   "cell_type": "markdown",
   "id": "3393a5ea",
   "metadata": {},
   "source": [
    "## Hands-on practice\n",
    "\n",
    "- Now, you will practice setting up a new data science project\n",
    "  - Structuring it, using Git for version control, and connecting it to a remote GitHub repository\n",
    "- You should execute these commands in your terminal and are encouraged to document their main commands in a `README.md` file as they go.\n",
    "\n",
    "- Estimated Time: 40-50 minutes\n",
    "\n",
    "- Feel free to use any of resources you have available, **but please avoid using AI tools**\n",
    "- Why? Because this is a risk-less activity to **practice and learn** 🤓\n",
    "- If you get stuck, please ask for help! Searching the web is also a good option 😉"
   ]
  },
  {
   "cell_type": "markdown",
   "id": "0f67eb42",
   "metadata": {},
   "source": [
    "## Instructions\n",
    "\n",
    "- You can download a Jupyter Notebook with the instructions for this activity [in this link](https://github.com/danilofreire/qtm350-summer/blob/main/lectures/lecture-08/08-practice.ipynb)\n",
    "- You can also find the same instructions in this presentation\n",
    "- You can use any terminal you want, but we recommend using the terminal in JupyterLab \n",
    "  - Use the `!` command to run shell commands in Jupyter, it should work the same way\n",
    "  - e.g., `!mkdir my_ds_project_revision`\n",
    "- You can also use the terminal in RStudio, VSCode, or any other terminal you prefer"
   ]
  },
  {
   "cell_type": "markdown",
   "id": "2ba8a96a",
   "metadata": {},
   "source": [
    "## Part 1: Project & GitHub Setup\n",
    "\n",
    "Throughout this revision, please execute the commands in your terminal. You should create a `project_log.md` file in your project's root directory and add the commands you use as you go.\n",
    "\n",
    "- 1. **Create a Project Directory:**\n",
    "    * On your local machine, create a new directory for this project. Let's call it `my_ds_project_revision`.\n",
    "\n",
    "```sh\n",
    "mkdir my_ds_project_revision\n",
    "```\n",
    "\n",
    "- Navigate into this new directory. \n",
    "\n",
    "```sh\n",
    "cd my_ds_project_revision\n",
    "```\n",
    "- *(Self-check: Use `pwd` to confirm you're in the right place.)*\n",
    "\n",
    "```sh\n",
    "pwd\n",
    "```"
   ]
  },
  {
   "cell_type": "markdown",
   "id": "1c79512f",
   "metadata": {},
   "source": [
    "## Part 1: Project & GitHub Setup\n",
    "\n",
    "- 2.  **Create a New Repository on GitHub:** \n",
    "\n",
    "- Go to [GitHub](https://github.com) and create a **new, empty public repository**.\n",
    "- Name it `my-ds-project-revision` (or similar).\n",
    "- **Important:** Do *not* initialise it with a README, .gitignore, or license yet.\n",
    "- Once created, copy the HTTPS or SSH URL for your new repository.\n",
    "\n",
    "- 3.  **Initialise Local Git Repository:**\n",
    "\n",
    "- Back in your `my_ds_project_revision` directory in the terminal:\n",
    "\n",
    "```sh\n",
    "git init\n",
    "```"
   ]
  },
  {
   "cell_type": "markdown",
   "id": "ef8fdaba",
   "metadata": {},
   "source": [
    "## Part 1: Project & GitHub Setup\n",
    "\n",
    "- 4.  **Initial Commit:**\n",
    "\n",
    "- Create a simple `README.md` file. Add content using `echo`:\n",
    "\n",
    "```sh\n",
    "echo \"# My Data Science Project Revision\" > README.md\n",
    "echo \"This project is a hands-on revision of setting up a data science workflow with Git and GitHub.\" >> README.md\n",
    "```\n",
    "- Stage the `README.md` file:\n",
    "\n",
    "```sh\n",
    "git add README.md\n",
    "```\n",
    "- Commit the staged file:\n",
    "\n",
    "```sh\n",
    "git commit -m \"Initial commit: Add README\"\n",
    "```"
   ]
  },
  {
   "cell_type": "markdown",
   "id": "b3326c12",
   "metadata": {},
   "source": [
    "## Part 1: Project & GitHub Setup\n",
    "\n",
    "- 5.  **Connect to GitHub and Push:**\n",
    "\n",
    "- Add the GitHub repository as the remote origin (replace `YOUR_GITHUB_REPO_URL` with the URL you copied):\n",
    "\n",
    "```sh\n",
    "git remote add origin YOUR_GITHUB_REPO_URL\n",
    "```\n",
    "- Rename your default branch to `main` (if it's not already named that, e.g., if it's `master`):\n",
    "```sh\n",
    "git branch -M main\n",
    "```\n",
    "\n",
    "- Push your initial commit to the `main` branch on GitHub:\n",
    "```sh\n",
    "git push -u origin main\n",
    "```\n",
    "\n",
    "- *(Self-check: Refresh your GitHub repository page to see the `README.md` file.)*"
   ]
  },
  {
   "cell_type": "markdown",
   "id": "e2caf450",
   "metadata": {},
   "source": [
    "## Part 2: Structuring Your Data Science Project\n",
    "\n",
    "- 1.  **Create Standard Directories:**\n",
    "\n",
    "- Create the following directories using brace expansion:\n",
    "\n",
    "```sh\n",
    "mkdir -p data/{raw,processed} notebooks scripts results docs\n",
    "```\n",
    "- *(Self-check: Use `ls` or `tree` if available.)*\n",
    "\n",
    "```sh\n",
    "ls -R\n",
    "```"
   ]
  },
  {
   "cell_type": "markdown",
   "id": "8e64b4a8",
   "metadata": {},
   "source": [
    "## Part 2: Structuring Your Data Science Project\n",
    "\n",
    "- 2.  **Add Initial Project Files:**\n",
    "\n",
    "- Create empty files:\n",
    "\n",
    "```sh\n",
    "touch scripts/01_data_preprocessing.py scripts/02_analysis.py notebooks/exploratory_data_analysis.ipynb data/raw/placeholder.txt docs/project_plan.md\n",
    "```\n",
    "- Add placeholder text to `docs/project_plan.md`:\n",
    "\n",
    "```sh\n",
    "echo \"## Project Plan\" > docs/project_plan.md\n",
    "echo \"1. Setup project structure.\" >> docs/project_plan.md\n",
    "echo \"2. Implement data preprocessing.\" >> docs/project_plan.md\n",
    "echo \"3. Perform analysis.\" >> docs/project_plan.md\n",
    "```"
   ]
  },
  {
   "cell_type": "markdown",
   "id": "833e9966",
   "metadata": {},
   "source": [
    "## Part 2: Structuring Your Data Science Project\n",
    "- 3.  **Create a `.gitignore` file:**\n",
    "- Create the file:\n",
    "\n",
    "```sh\n",
    "touch .gitignore\n",
    "```\n",
    "\n",
    "- Add lines to `.gitignore` (you can use `echo ... >> .gitignore` for each line or open it in a text editor):\n",
    "\n",
    "```sh\n",
    "echo \"# Python\" >> .gitignore\n",
    "echo \"__pycache__/\" >> .gitignore\n",
    "echo \"*.pyc\" >> .gitignore\n",
    "echo \"*.pyo\" >> .gitignore\n",
    "echo \"*.pyd\" >> .gitignore\n",
    "echo \"\" >> .gitignore\n",
    "echo \"# Jupyter Notebook\" >> .gitignore\n",
    "echo \".ipynb_checkpoints/\" >> .gitignore\n",
    "echo \"\" >> .gitignore\n",
    "echo \"# Data files\" >> .gitignore\n",
    "echo \"data/raw/*\" >> .gitignore\n",
    "echo \"data/processed/*\" >> .gitignore\n",
    "echo \"!data/raw/placeholder.txt\" >> .gitignore\n",
    "echo \"\" >> .gitignore\n",
    "echo \"# Results\" >> .gitignore\n",
    "echo \"results/*\" >> .gitignore\n",
    "echo \"\" >> .gitignore\n",
    "echo \"# Environment\" >> .gitignore\n",
    "echo \".env\" >> .gitignore\n",
    "echo \"venv/\" >> .gitignore\n",
    "echo \"env/\" >> .gitignore\n",
    "```\n",
    "\n",
    "- *(Self-check: View the contents of `.gitignore` using `cat .gitignore`)*"
   ]
  },
  {
   "cell_type": "markdown",
   "id": "cd9c2143",
   "metadata": {},
   "source": [
    "## Part 2: Structuring Your Data Science Project\n",
    "- 4.  **Commit Project Structure:**\n",
    "- Stage all new directories/files:\n",
    "\n",
    "```sh\n",
    "git add .\n",
    "```\n",
    "- Commit the changes:\n",
    "\n",
    "```sh\n",
    "git commit -m \"Feat: Setup project directory structure and gitignore\"\n",
    "```\n",
    "- Push to GitHub:\n",
    "\n",
    "```sh\n",
    "git push origin main\n",
    "```"
   ]
  },
  {
   "cell_type": "markdown",
   "id": "9621b033",
   "metadata": {},
   "source": [
    "## Part 3: Simulating a Workflow with Branching\n",
    "\n",
    "- 1.  **Create a Feature Branch:**\n",
    "\n",
    "```sh\n",
    "git branch feature/add-initial-script-logic\n",
    "git checkout feature/add-initial-script-logic\n",
    "```\n",
    "\n",
    "- (Or in one command: `git checkout -b feature/add-initial-script-logic`)*\n",
    "\n",
    "- 2.  **\"Develop\" a Script:**\n",
    "\n",
    "- Append lines to `scripts/01_data_preprocessing.py`:\n",
    "\n",
    "```sh\n",
    "echo \"# scripts/01_data_preprocessing.py\" > scripts/01_data_preprocessing.py\n",
    "echo \"import pandas as pd\" >> scripts/01_data_preprocessing.py\n",
    "echo \"\" >> scripts/01_data_preprocessing.py\n",
    "echo \"def load_data(filepath):\" >> scripts/01_data_preprocessing.py\n",
    "echo \"    print(f\\\"Loading data from {filepath}...\\\")\" >> scripts/01_data_preprocessing.py\n",
    "echo \"    # df = pd.read_csv(filepath)\" >> scripts/01_data_preprocessing.py\n",
    "echo \"    # print(\\\"Data loaded successfully.\\\")\" >> scripts/01_data_preprocessing.py\n",
    "echo \"    # return df\" >> scripts/01_data_preprocessing.py\n",
    "echo \"\" >> scripts/01_data_preprocessing.py\n",
    "echo \"print(\\\"Data preprocessing script initialized.\\\")\" >> scripts/01_data_preprocessing.py\n",
    "```\n",
    "\n",
    "- *(Self-check: `cat scripts/01_data_preprocessing.py`)*"
   ]
  },
  {
   "cell_type": "markdown",
   "id": "f6fbf561",
   "metadata": {},
   "source": [
    "## Part 3: Simulating a Workflow with Branching\n",
    "\n",
    "- 3.  **Simulate Data Processing:**\n",
    "\n",
    "```sh\n",
    "cp data/raw/placeholder.txt data/processed/processed_placeholder.txt\n",
    "```\n",
    "\n",
    "- 4.  **Commit Feature Development:**\n",
    "\n",
    "- Stage the changes:\n",
    "\n",
    "```sh\n",
    "git add scripts/01_data_preprocessing.py data/processed/processed_placeholder.txt\n",
    "```\n",
    "\n",
    "- Commit:\n",
    "\n",
    "```sh\n",
    "git commit -m \"Feat: Add initial logic to preprocessing script and simulate output\"\n",
    "```"
   ]
  },
  {
   "cell_type": "markdown",
   "id": "18a8a728",
   "metadata": {},
   "source": [
    "## Part 3: Simulating a Workflow with Branching\n",
    "\n",
    "- 5.  **Merge Feature Branch:**\n",
    "\n",
    "- Switch to main:\n",
    "\n",
    "```sh\n",
    "git checkout main\n",
    "```\n",
    "\n",
    "- Merge:\n",
    "\n",
    "```sh\n",
    "git merge feature/add-initial-script-logic\n",
    "```\n",
    "\n",
    "- (Optional) Delete the feature branch locally:\n",
    "\n",
    "```sh\n",
    "git branch -d feature/add-initial-script-logic\n",
    "```"
   ]
  },
  {
   "cell_type": "markdown",
   "id": "0ffea136",
   "metadata": {},
   "source": [
    "## Part 3: Simulating a Workflow with Branching\n",
    "\n",
    "- 6.  **Push Final Changes:**\n",
    "\n",
    "```sh\n",
    "git push origin main\n",
    "```\n",
    "\n",
    "- *(Self-check: Verify on GitHub.)* \n",
    "\n",
    "- 7. **Document Your Work:**\n",
    "\n",
    "- Create `project_log.md`. It's recommended you do this as you go.\n",
    "\n",
    "```sh\n",
    "touch project_log.md\n",
    "```\n",
    "\n",
    "- Add all the shell and Git commands you used to this file using Markdown.\n",
    "\n",
    "- Stage, commit, and push `project_log.md`.\n",
    "```sh\n",
    "git add project_log.md\n",
    "git commit -m \"Docs: Add project log with commands\"\n",
    "git push origin main\n",
    "```"
   ]
  },
  {
   "cell_type": "markdown",
   "id": "5d3a41a1",
   "metadata": {},
   "source": [
    "## End of Revision Lecture Activity\n",
    "\n",
    "- **Congratulations!** 🥳 \n",
    "- You've set up a data science project with version control and connected it to GitHub 🐙\n",
    "- If you have any questions, please feel free to ask!\n",
    "- Happy coding! 💻"
   ]
  },
  {
   "cell_type": "markdown",
   "id": "ecf5983e",
   "metadata": {},
   "source": [
    "# And that's all for today! 🎉"
   ]
  }
 ],
 "metadata": {
  "kernelspec": {
   "display_name": "Python 3 (ipykernel)",
   "language": "python",
   "name": "python3"
  },
  "language_info": {
   "codemirror_mode": {
    "name": "ipython",
    "version": 3
   },
   "file_extension": ".py",
   "mimetype": "text/x-python",
   "name": "python",
   "nbconvert_exporter": "python",
   "pygments_lexer": "ipython3",
   "version": "3.10.0"
  }
 },
 "nbformat": 4,
 "nbformat_minor": 5
}
