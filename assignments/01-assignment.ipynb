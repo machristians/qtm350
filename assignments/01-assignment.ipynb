{
 "cells": [
  {
   "cell_type": "markdown",
   "metadata": {},
   "source": [
    "# QTM 350 - Data Science Computing\n",
    "\n",
    "## Assignment 01 - Computational Literacy\n",
    "### Due 29 January 2025\n",
    "\n",
    "### Instructions\n",
    "\n",
    "This assignment evaluates your understanding of topics covered in the first two weeks of class, including binary and hexadecimal number systems, ASCII encoding, and programming language fundamentals.\n",
    "\n",
    "You must complete this assignment individually. While you may use available resources such as notes, books, and AI tools, you are expected to submit original work. Please acknowledge all resources used, including input from classmates and AI. If you are unsure about permissible resources or proper acknowledgement, please consult the instructor.\n",
    "\n",
    "Present your solutions clearly and systematically, showing your problem-solving process. Please ensure that any code is well-commented.\n",
    "\n",
    "### Submission\n",
    "\n",
    "Please submit your solutions as either a single Jupyter notebook or a PDF file. Follow the instructions provided in each section carefully. Submit your completed assignment to Canvas or via email (danilo.freire@emory.edu) by Wednesday, September 11, at 11:59 PM."
   ]
  },
  {
   "cell_type": "markdown",
   "metadata": {},
   "source": [
    "### Question 01\n",
    "\n",
    "Convert the decimal number 53 to binary. Show your work."
   ]
  },
  {
   "cell_type": "markdown",
   "metadata": {},
   "source": [
    "53 = 32 + 21 = 32 + 16 + 5 = 32 + 16 + 4 + 1 = 32(1) + 16(1) + 8(0) + 4(1) + 2(0) + 1(1)\n",
    "\n",
    "Therefore the binary form of 53 is **110101**."
   ]
  },
  {
   "cell_type": "markdown",
   "metadata": {},
   "source": [
    "### Question 02\n",
    "\n",
    "Convert the binary number 1011001 to decimal. Show your work."
   ]
  },
  {
   "cell_type": "markdown",
   "metadata": {},
   "source": [
    "1(1) + 0(2) + 0(4) + 1(8) + 1(16) + 0(32) + 1(64) = 1 + 8 + 16 + 64 = **89**"
   ]
  },
  {
   "cell_type": "markdown",
   "metadata": {},
   "source": [
    "### Question 03\n",
    "\n",
    "What is the hexadecimal representation of the RGB colour (128, 64, 255)? Explain your answer."
   ]
  },
  {
   "cell_type": "markdown",
   "metadata": {},
   "source": [
    "*For this question I had to Google how to convert numbers greater than 15 to hexadecimal.*\n",
    "\n",
    "\n",
    "We need to convert each RGB value from decimal to hexadecimal by dividing by 16, then converting both the integer quotient and the remainder to HEX.\n",
    "\n",
    "For Red, 128/16 = 8 remainder 0, meaning 128 becomes 80 in HEX.\n",
    "\n",
    "For Green, 64/16 = 4 remainder 0, meaning 64 becomes 40 in HEX.\n",
    "\n",
    "For Blue, 255/16 = 15 remainder 15. 15 corresponds to F in HEX, so 255 becomes FF in HEX.\n",
    "\n",
    "Putting these HEX values in RGB order, we get **#8040FF**."
   ]
  },
  {
   "cell_type": "markdown",
   "metadata": {},
   "source": [
    "### Question 04\n",
    "\n",
    "Convert the hexadecimal colour #2A9F3B to its RGB components. Show your steps."
   ]
  },
  {
   "cell_type": "markdown",
   "metadata": {},
   "source": [
    "We can do the inverse of the process from Question 03.\n",
    "\n",
    "For Red, 2A corresponds to 2 remainder 10 for a number divided by 16. We then calculate 2(16) + 10 = 42 in decimal.\n",
    "\n",
    "For Green, 9F corresponds to 9 remainder 15. We then calculate 9(16) + 15 = 159.\n",
    "\n",
    "For Blue, 3B corresponds to 3 remainder 11. We then calculate 3(16) + 11 = 59.\n",
    "\n",
    "Putting these decimal values in RGB order, we get **(42, 159, 59)**."
   ]
  },
  {
   "cell_type": "markdown",
   "metadata": {},
   "source": [
    "### Question 05\n",
    "\n",
    "Using the coin representation system described in the lecture (c[quarters][dimes][nickels][pennies]), convert $1.37 to coin representation. Explain your reasoning."
   ]
  },
  {
   "cell_type": "markdown",
   "metadata": {},
   "source": [
    "The most amount of quarters we can use to represent $1.37 (without going over) is 5. The remaining dollar value is $0.12.\n",
    "\n",
    "The most amount of dimes we can use to represent this value is 1. The remaining dollar value is $0.02.\n",
    "\n",
    "The most amount of nickels we can use to represent this value is 0.\n",
    "\n",
    "The most amount of pennies we can use to represent this value is 2.\n",
    "\n",
    "\n",
    "Therefore $1.37 = **c5102** in this system."
   ]
  },
  {
   "cell_type": "markdown",
   "metadata": {},
   "source": [
    "### Question 06\n",
    "\n",
    "What is the Unicode representation of the word \"Emory\"? Use the Unicode table provided in the lecture to find out."
   ]
  },
  {
   "cell_type": "markdown",
   "metadata": {},
   "source": [
    "\"Emory\" in Unicode code points is **U+0045 U+006D U+006F U+0072 U+0079**."
   ]
  },
  {
   "cell_type": "markdown",
   "metadata": {},
   "source": [
    "### Question 07\n",
    "\n",
    "Explain the difference between ASCII and Unicode. Why was Unicode developed, and what advantages does it offer over ASCII?"
   ]
  },
  {
   "cell_type": "markdown",
   "metadata": {},
   "source": [
    "Unicode is a superset of ASCII, meaning the first 128 characters of Unicode are the same as in ASCII. ASCII is extremely limited in the number of characters, because even the extended version is only 256 characters. This is enough for English, but not another languages. Unicode has a unique number for virtually every character in the world, and has therefore become the standard character set used by computers."
   ]
  },
  {
   "cell_type": "markdown",
   "metadata": {},
   "source": [
    "### Question 08\n",
    "\n",
    "Describe the Von Neumann architecture and its significance in modern computing. What is the Von Neumann bottleneck, and how does it affect computer performance?"
   ]
  },
  {
   "cell_type": "markdown",
   "metadata": {},
   "source": [
    "The Von Neumann architecture stores both the program instructions and data in the same slow storage medium, and these are transferred to the RAM to be executed by the CPU.\n",
    "\n",
    "The Von Neumann bottleneck is the physical limit of time it takes for signals to transfer between memory and the CPU. The CPU (and computers in general) could work much faster without this bottleneck."
   ]
  },
  {
   "cell_type": "markdown",
   "metadata": {},
   "source": [
    "### Question 09\n",
    "\n",
    "Compare and contrast low-level and high-level programming languages. Give two examples of each and explain when you might choose to use one over the other."
   ]
  },
  {
   "cell_type": "markdown",
   "metadata": {},
   "source": [
    "High-level programming languages are those that are farther from resembling binary. Examples include Python or C++. Low-level programming languages are those closer to binary. Examples include Assembly or binary itself.\n",
    "\n",
    "Low-level languages are computationally faster and more memory-efficient, but they are harder for humans to read/write, often leading to slower development with these languages.\n",
    "\n",
    "People usually choose high-level languages when starting to learn programming, because they are more similar to English (which a lot of people are already familiar with).\n",
    "\n",
    "Low-level languages are more common in industries where speed is really important, but this requires employees to be able to write in this language *quickly*."
   ]
  },
  {
   "cell_type": "markdown",
   "metadata": {},
   "source": [
    "### Question 10\n",
    "\n",
    "Discuss the concept of abstraction in computer science, using the representation of images in computers as an example. How does this abstraction process impact data analysis and predictive modelling in image-related tasks?"
   ]
  },
  {
   "cell_type": "markdown",
   "metadata": {},
   "source": [
    "Everything computers store is represented at the lowest level with binary. Abstraction is used to interpret binary in order to produce images, text, etc.\n",
    "\n",
    "Every image is made up of pixels, and each pixel is a single color, represented as a number, which is stored as binary. The number is usually in RGB form or HEX form. The three numbers that make up RGB are in decimal form, and stored in computers by translating this decimal number to binary. For HEX, each of the 6 characters translates to 4 binary digits.\n",
    "\n",
    "\n",
    "I assume this could affect data analysis because data can be in any form, which must be abstracted (from however the data is stored) before it can be analyzed. Because images are abstractions of a long series of numbers, I think predictive models work with these number directly, allowing for faster modelling. "
   ]
  }
 ],
 "metadata": {
  "kernelspec": {
   "display_name": "base",
   "language": "python",
   "name": "python3"
  },
  "language_info": {
   "codemirror_mode": {
    "name": "ipython",
    "version": 3
   },
   "file_extension": ".py",
   "mimetype": "text/x-python",
   "name": "python",
   "nbconvert_exporter": "python",
   "pygments_lexer": "ipython3",
   "version": "3.12.2"
  }
 },
 "nbformat": 4,
 "nbformat_minor": 2
}
